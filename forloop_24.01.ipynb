{
 "cells": [
  {
   "cell_type": "code",
   "execution_count": 1,
   "id": "d5e859b5-7205-413b-870e-27c4c2bb4917",
   "metadata": {},
   "outputs": [
    {
     "name": "stdout",
     "output_type": "stream",
     "text": [
      "Enter the filename:dsfhd.xlsx\n",
      "invalid excel file\n"
     ]
    }
   ],
   "source": [
    "file = input(\"Enter the filename:\")\n",
    "if file.endswith(\".csv\"):\n",
    "    if file.startswith(\"copper\"):\n",
    "        print(\"copper csv file executed\")\n",
    "    elif file.startswith(\"gold\"):\n",
    "        print(\"gold csv file executed\")\n",
    "    elif file.startswith(\"boxite\"):\n",
    "        print(\"boxite csv file execute\")\n",
    "    else:\n",
    "        print(\"invalid csv file\")\n",
    "elif file.endswith(\".xlsx\"):\n",
    "    if file.startswith(\"copper\"):\n",
    "        print(\"copper excel file executed\")\n",
    "    elif file.startswith(\"gold\"):\n",
    "        print(\"gold excel file executed\")\n",
    "    elif file.startswith(\"boxite\"):\n",
    "        print(\"boxite excel file execute\")\n",
    "    else:\n",
    "        print(\"invalid excel file\") \n",
    "else:\n",
    "    print(\"invalid file type\")"
   ]
  },
  {
   "cell_type": "code",
   "execution_count": null,
   "id": "768169ac-6f8e-4e58-8657-dc3e975467cd",
   "metadata": {},
   "outputs": [],
   "source": [
    "copper_2023_sales.xlsx\n",
    "copper_2024_sales_xlsx\n",
    "silver_2023_sales.xlsx"
   ]
  },
  {
   "cell_type": "code",
   "execution_count": 6,
   "id": "ea80e1cb-6449-4bc9-832c-083fee217644",
   "metadata": {},
   "outputs": [
    {
     "name": "stdout",
     "output_type": "stream",
     "text": [
      "hi\n",
      "bye\n",
      "welcome\n",
      "hi\n",
      "bye\n",
      "welcome\n",
      "hi\n",
      "bye\n",
      "welcome\n",
      "hi\n",
      "bye\n",
      "welcome\n",
      "hi\n",
      "bye\n",
      "welcome\n",
      "hi\n",
      "bye\n",
      "welcome\n",
      "hi\n",
      "bye\n",
      "welcome\n"
     ]
    }
   ],
   "source": [
    "print(\"hi\")\n",
    "print(\"bye\")\n",
    "print(\"welcome\")\n",
    "print(\"hi\")\n",
    "print(\"bye\")\n",
    "print(\"welcome\")\n",
    "print(\"hi\")\n",
    "print(\"bye\")\n",
    "print(\"welcome\")\n",
    "print(\"hi\")\n",
    "print(\"bye\")\n",
    "print(\"welcome\")\n",
    "print(\"hi\")\n",
    "print(\"bye\")\n",
    "print(\"welcome\")\n",
    "print(\"hi\")\n",
    "print(\"bye\")\n",
    "print(\"welcome\")\n",
    "print(\"hi\")\n",
    "print(\"bye\")\n",
    "print(\"welcome\")"
   ]
  },
  {
   "cell_type": "code",
   "execution_count": null,
   "id": "fb82c3be-0834-4996-8196-49919f17d7d9",
   "metadata": {},
   "outputs": [],
   "source": [
    "for loop \n",
    "while loop\n",
    "\n",
    "Note : do-while is not present in python"
   ]
  },
  {
   "cell_type": "code",
   "execution_count": 7,
   "id": "6f4fb476-ad55-41d9-8c57-fb1dd3682477",
   "metadata": {},
   "outputs": [],
   "source": [
    "p = ['python','java','hadoop','ml']"
   ]
  },
  {
   "cell_type": "code",
   "execution_count": 8,
   "id": "8ac6f3c2-36fb-445f-b416-00405522aeac",
   "metadata": {},
   "outputs": [],
   "source": [
    "t = 'python'"
   ]
  },
  {
   "cell_type": "code",
   "execution_count": 9,
   "id": "5f0570d1-039f-4a85-8514-69d4cc793cd8",
   "metadata": {},
   "outputs": [
    {
     "data": {
      "text/plain": [
       "6"
      ]
     },
     "execution_count": 9,
     "metadata": {},
     "output_type": "execute_result"
    }
   ],
   "source": [
    "len(t)"
   ]
  },
  {
   "cell_type": "code",
   "execution_count": null,
   "id": "314a88bf-97b5-42ee-a258-910ecf8eb6c4",
   "metadata": {},
   "outputs": [],
   "source": [
    "for loopvar in DS/SEQ/iterables:\n",
    "    block of code    "
   ]
  },
  {
   "cell_type": "code",
   "execution_count": 10,
   "id": "dd0259a5-1093-4212-aeb3-89eb441a5f60",
   "metadata": {},
   "outputs": [
    {
     "data": {
      "text/plain": [
       "['python', 'java', 'hadoop', 'ml']"
      ]
     },
     "execution_count": 10,
     "metadata": {},
     "output_type": "execute_result"
    }
   ],
   "source": [
    "p"
   ]
  },
  {
   "cell_type": "code",
   "execution_count": 16,
   "id": "c6b8386f-f3e4-4479-bd77-e8fe6f10d32b",
   "metadata": {},
   "outputs": [
    {
     "name": "stdout",
     "output_type": "stream",
     "text": [
      "loop completed\n",
      "{'python': 6, 'java': 4, 'hadoop': 6, 'ml': 2}\n"
     ]
    }
   ],
   "source": [
    "d = {}\n",
    "for element in p:\n",
    "    d[element]=len(element)\n",
    "print(\"loop completed\")\n",
    "print(d)"
   ]
  },
  {
   "cell_type": "code",
   "execution_count": 13,
   "id": "567a3ba9-79fb-4f79-9634-6e742badccc5",
   "metadata": {},
   "outputs": [],
   "source": [
    "temp = {}\n"
   ]
  },
  {
   "cell_type": "code",
   "execution_count": 14,
   "id": "26961f91-ce7a-4801-a48b-d5e843408499",
   "metadata": {},
   "outputs": [],
   "source": [
    "temp['python'] = len('python')"
   ]
  },
  {
   "cell_type": "code",
   "execution_count": 15,
   "id": "90e76c14-8d6c-410e-b47a-4ea8dfa00cc4",
   "metadata": {},
   "outputs": [
    {
     "data": {
      "text/plain": [
       "{'python': 6}"
      ]
     },
     "execution_count": 15,
     "metadata": {},
     "output_type": "execute_result"
    }
   ],
   "source": [
    "temp"
   ]
  },
  {
   "cell_type": "code",
   "execution_count": 17,
   "id": "cbe3d8fd-f281-47a4-afb3-4e92aefc6e5a",
   "metadata": {},
   "outputs": [],
   "source": [
    "ids = [534,35,6,243,64,3,46,4,'dvdfdvdb','dvdv','dvcxv',5465456]"
   ]
  },
  {
   "cell_type": "code",
   "execution_count": 20,
   "id": "72b3bd18-f46d-4cd9-8688-60e3f44b7a21",
   "metadata": {},
   "outputs": [
    {
     "name": "stdout",
     "output_type": "stream",
     "text": [
      "Valid empid : [534, 35, 6, 243, 64, 3, 46, 4, 5465456]\n",
      "invalid empid: ['dvdfdvdb', 'dvdv', 'dvcxv']\n"
     ]
    }
   ],
   "source": [
    "valid = []\n",
    "invalid = []\n",
    "for empid in ids:\n",
    "    if str(empid).isnumeric():\n",
    "        valid.append(empid)\n",
    "    else:\n",
    "        invalid.append(empid)\n",
    "print(\"Valid empid :\",valid)\n",
    "print(\"invalid empid:\",invalid)"
   ]
  },
  {
   "cell_type": "code",
   "execution_count": 24,
   "id": "c639a830-0bd1-48e9-84d9-1ba1ff02ec3c",
   "metadata": {},
   "outputs": [],
   "source": [
    "emails = ['test@gmail.com','sample@rediffmail.com','python@gmail.com','ml@gmail.com','dsfdfs','dfssadf','hadoop@reffmail.com','test@yahoo.com']"
   ]
  },
  {
   "cell_type": "code",
   "execution_count": 25,
   "id": "f0992f6d-5b40-4a06-bfd2-daf12cc9c763",
   "metadata": {},
   "outputs": [
    {
     "data": {
      "text/plain": [
       "['test@gmail.com',\n",
       " 'sample@rediffmail.com',\n",
       " 'python@gmail.com',\n",
       " 'ml@gmail.com',\n",
       " 'dsfdfs',\n",
       " 'dfssadf',\n",
       " 'hadoop@reffmail.com',\n",
       " 'test@yahoo.com']"
      ]
     },
     "execution_count": 25,
     "metadata": {},
     "output_type": "execute_result"
    }
   ],
   "source": [
    "emails"
   ]
  },
  {
   "cell_type": "code",
   "execution_count": 28,
   "id": "febcbd73-80fb-4200-8e37-6402924203fa",
   "metadata": {},
   "outputs": [
    {
     "name": "stdout",
     "output_type": "stream",
     "text": [
      "{'gmail': ['test@gmail.com', 'python@gmail.com', 'ml@gmail.com']}\n",
      "{'rediffmail': ['sample@rediffmail.com']}\n",
      "{'yahoo': ['test@yahoo.com']}\n",
      "{'invalid': ['dsfdfs', 'dfssadf', 'hadoop@reffmail.com']}\n"
     ]
    }
   ],
   "source": [
    "gmail = {'gmail': []}\n",
    "rediffmail = {'rediffmail':[]}\n",
    "yahoo = {'yahoo':[]}\n",
    "invalid = {'invalid':[]}\n",
    "for email in emails:\n",
    "    if email.endswith('@gmail.com'):\n",
    "        gmail['gmail'].append(email)\n",
    "    elif email.endswith('@rediffmail.com'):\n",
    "        rediffmail['rediffmail'].append(email)\n",
    "    elif email.endswith('@yahoo.com'):\n",
    "        yahoo['yahoo'].append(email)\n",
    "    else:\n",
    "        invalid['invalid'].append(email)\n",
    "print(gmail)\n",
    "print(rediffmail)\n",
    "print(yahoo)\n",
    "print(invalid)"
   ]
  },
  {
   "cell_type": "code",
   "execution_count": 1,
   "id": "1913143c-fa48-44d2-beb2-6491ed3259c6",
   "metadata": {},
   "outputs": [
    {
     "name": "stdout",
     "output_type": "stream",
     "text": [
      "{10: 3, 20: 3, 30: 3, 40: 2, 50: 2}\n"
     ]
    }
   ],
   "source": [
    "#imp q's\n",
    "p = [10,20,10,20,10,30,30,40,50,20,30,40,50]\n",
    "temp = {}\n",
    "for item in p:\n",
    "    temp[item] = p.count(item)\n",
    "print(temp)"
   ]
  },
  {
   "cell_type": "code",
   "execution_count": 2,
   "id": "ce09b08d",
   "metadata": {},
   "outputs": [
    {
     "name": "stdout",
     "output_type": "stream",
     "text": [
      "{'a': 3, 'b': 3, 'c': 2, 'd': 3, 'e': 2, 'f': 2, 'g': 2, 'h': 2}\n"
     ]
    }
   ],
   "source": [
    "q = '''abcdbadefghabcedfgh'''\n",
    "temp_dict = {}\n",
    "for item in q:\n",
    "    temp_dict[item] = q.count(item)\n",
    "print(temp_dict)"
   ]
  },
  {
   "cell_type": "code",
   "execution_count": 4,
   "id": "a0bf064e",
   "metadata": {},
   "outputs": [
    {
     "name": "stdout",
     "output_type": "stream",
     "text": [
      "{'the': 2, 'python': 1, 'decorator': 1, 'are': 1, 'more': 2, 'stronger': 2, 'tha': 1, 'iterator': 1, 'and': 1, 'functions': 2, 'of': 1, 'it': 1, 'than': 1, 'c': 1}\n"
     ]
    }
   ],
   "source": [
    "r = \"\"\"The Python decorator are more stronger tha iterator and functions of it more stronger than\n",
    "        the c functions\"\"\"\n",
    "temp_list = r.lower().split()\n",
    "temp_dict = {}\n",
    "for item in temp_list:\n",
    "    temp_dict[item] = temp_list.count(item)\n",
    "print(temp_dict)\n"
   ]
  },
  {
   "cell_type": "code",
   "execution_count": 9,
   "id": "227bdbfd",
   "metadata": {},
   "outputs": [
    {
     "data": {
      "text/plain": [
       "'a d s f n     s'"
      ]
     },
     "execution_count": 9,
     "metadata": {},
     "output_type": "execute_result"
    }
   ],
   "source": [
    "''.join"
   ]
  },
  {
   "cell_type": "code",
   "execution_count": 17,
   "id": "f0399b20",
   "metadata": {},
   "outputs": [
    {
     "name": "stdout",
     "output_type": "stream",
     "text": [
      "{10: 3, 20: 3, 30: 3, 40: 2, 50: 2}\n"
     ]
    }
   ],
   "source": [
    "# alter nate approach\n",
    "p = [10,20,10,20,10,30,30,40,50,20,30,40,50]\n",
    "temp = {}\n",
    "for element in p:\n",
    "    if element in temp:\n",
    "        temp[element] += 1\n",
    "    else:\n",
    "        temp[element] = 1\n",
    "print(temp)"
   ]
  },
  {
   "cell_type": "code",
   "execution_count": 19,
   "id": "a6a4188b",
   "metadata": {},
   "outputs": [
    {
     "name": "stdout",
     "output_type": "stream",
     "text": [
      "{'the': 2, 'python': 1, 'decorator': 1, 'are': 1, 'more': 2, 'stronger': 2, 'tha': 1, 'iterator': 1, 'and': 1, 'functions': 2, 'of': 1, 'it': 1, 'than': 1, 'c': 1}\n"
     ]
    }
   ],
   "source": [
    "r = \"\"\"The Python decorator are more stronger tha iterator and functions of it more stronger than\n",
    "        the c functions\"\"\"\n",
    "temp_list = r.lower().split()\n",
    "temp_dict = {}\n",
    "for element in temp_list:\n",
    "    if element in temp_dict:\n",
    "        temp_dict[element] += 1\n",
    "    else:\n",
    "        temp_dict[element] = 1\n",
    "print(temp_dict)\n",
    "    "
   ]
  },
  {
   "cell_type": "code",
   "execution_count": 1,
   "id": "5d61b332",
   "metadata": {},
   "outputs": [
    {
     "name": "stdout",
     "output_type": "stream",
     "text": [
      "Numbers in String : ['2', '3', '4', '2', '3', '5', '3', '2', '4', '5', '3', '4', '1', '2', '4', '3', '3', '4']\n",
      "Characters in String ['a', 'h', 'f', 'd', 's', 'f', 'j', 'l', 'k', 'j', 'h', 'j', 'j', 'f', 'a', 'h', 'k']\n",
      "Special characters ['@', '#', '#', '@', '$']\n"
     ]
    }
   ],
   "source": [
    "p = '2342353245@#a#@$hfdsfjlkj34124hjjfahk334'\n",
    "num = []\n",
    "characters = []\n",
    "special = []\n",
    "for item in p:\n",
    "    if item.isnumeric():\n",
    "        num.append(item)\n",
    "    elif item.isalpha():\n",
    "        characters.append(item)\n",
    "    elif not (item.isnumeric() and item.isalpha()):\n",
    "        special.append(item)\n",
    "    else:\n",
    "        print(\"Invalid Character\")\n",
    "print(\"Numbers in String :\", num)\n",
    "print(\"Characters in String\", characters)\n",
    "print(\"Special characters\", special)\n",
    "    "
   ]
  },
  {
   "cell_type": "code",
   "execution_count": 19,
   "id": "c5b482b9",
   "metadata": {},
   "outputs": [
    {
     "name": "stdout",
     "output_type": "stream",
     "text": [
      "{'A': 5, 'E': 0, 'I': 1, 'O': 4, 'U': 1}\n",
      "{'A': 5, 'O': 4, 'U': 1, 'I': 1}\n"
     ]
    }
   ],
   "source": [
    "q = 'DFASDasdoudfoooiffadsfsdASDFSDDDAFC' \n",
    "sample = 'AEIOU'\n",
    "result = result.fromkeys(list(sample.upper()),0)\n",
    "for item in q.upper():\n",
    "    if item in sample:\n",
    "        result[item] += 1\n",
    "print(result)\n",
    "#vowels count in above string\n",
    "sample_list = list(q.upper())\n",
    "result_dict = {}\n",
    "for item in sample_list:\n",
    "    if item in sample:\n",
    "        if item in result_dict:\n",
    "            result_dict[item] += 1\n",
    "        else:\n",
    "            result_dict[item] = 1\n",
    "print(result_dict)"
   ]
  },
  {
   "cell_type": "code",
   "execution_count": 32,
   "id": "c5771b7b",
   "metadata": {},
   "outputs": [
    {
     "name": "stdout",
     "output_type": "stream",
     "text": [
      "NOHTYP"
     ]
    }
   ],
   "source": [
    "p = 'PYTHON'\n",
    "for i in range(len(p)-1,-1,-1):\n",
    "    print(p[i], end= '')\n"
   ]
  },
  {
   "cell_type": "code",
   "execution_count": 33,
   "id": "2a136cf7",
   "metadata": {},
   "outputs": [
    {
     "name": "stdout",
     "output_type": "stream",
     "text": [
      "NOHTYP"
     ]
    }
   ],
   "source": [
    "for i in range(-1,-len(p)-1,-1):\n",
    "    print(p[i], end = '')"
   ]
  },
  {
   "cell_type": "code",
   "execution_count": 1,
   "id": "6cc2d759",
   "metadata": {},
   "outputs": [],
   "source": [
    "#max min - list \n",
    "# two pairs if their addition is present\n",
    "list1 = [1,2,3,4,3,4543,9045,34,0,34,13]\n",
    "least = list1[0]\n",
    "highest = list1[0]\n"
   ]
  },
  {
   "cell_type": "code",
   "execution_count": 10,
   "id": "25632cd9",
   "metadata": {},
   "outputs": [
    {
     "name": "stdout",
     "output_type": "stream",
     "text": [
      "Enter the number for armstrong : 34\n",
      "Not Armstrong\n"
     ]
    }
   ],
   "source": [
    "#Armstrong number - \n",
    "num = input(\"Enter the number for armstrong : \")\n",
    "power = len(num)\n",
    "total = 0\n",
    "for item in num:\n",
    "    total += int(item) ** 3\n",
    "if total == int(num):\n",
    "    print(\"Armstrong Number\")\n",
    "else:\n",
    "    print(\"Not Armstrong\")\n",
    "    \n",
    "    \n"
   ]
  },
  {
   "cell_type": "code",
   "execution_count": 21,
   "id": "c0274b2b",
   "metadata": {},
   "outputs": [
    {
     "name": "stdout",
     "output_type": "stream",
     "text": [
      "Enter the number for armstrong : 407\n",
      "Not armstrong\n"
     ]
    }
   ],
   "source": [
    "# Alternate approach for armstrong number using while loop\n",
    "num = (input(\"Enter the number for armstrong : \"))\n",
    "power = len(num)\n",
    "total = 0\n",
    "while int(num) > 0:\n",
    "    total = total + ((int(num) % 10) ** power) \n",
    "    num = int(int(num)/10)\n",
    "if total == int(num):\n",
    "    print(\"Armstrong\")\n",
    "else:\n",
    "    print(\"Not armstrong\")"
   ]
  },
  {
   "cell_type": "code",
   "execution_count": 10,
   "id": "c9402ca6",
   "metadata": {},
   "outputs": [
    {
     "name": "stdout",
     "output_type": "stream",
     "text": [
      "{8, 3, 5, 'ee'}\n",
      "{1, 34, 4, 6, 7, 'dd'}\n"
     ]
    }
   ],
   "source": [
    "# Duplicate elements from the list and unique elements in the list\n",
    "list1 = [1,3,34,5,6,7,8,'dd', 'ee',3,4,5,8,'ee']\n",
    "seen = set()\n",
    "duplicates = set()\n",
    "for item in list1:\n",
    "    if item in seen:\n",
    "        duplicates.add(item)\n",
    "    else:\n",
    "        seen.add(item)\n",
    "print(duplicates)\n",
    "print(seen.difference(duplicates))\n",
    "#for i in range(len(list1)-2):\n",
    " #   if list1[i] in list1[i+1::]:\n",
    "  #      print(list1[i])\n",
    "\n",
    "\n"
   ]
  },
  {
   "cell_type": "code",
   "execution_count": 3,
   "id": "d101b9e9",
   "metadata": {},
   "outputs": [
    {
     "name": "stdout",
     "output_type": "stream",
     "text": [
      "Enter the string : racecar\n",
      "Palindrome\n"
     ]
    }
   ],
   "source": [
    "# string palindrome\n",
    "str1 = input(\"Enter the string : \")\n",
    "flag = 0\n",
    "for i in range(len(str1)//2):\n",
    "    if str1[i] != str1[-i-1]:\n",
    "        flag = -1\n",
    "        break\n",
    "if flag != -1:\n",
    "    print(\"Palindrome\")\n",
    "else:\n",
    "    print(\"not palindrome\")\n",
    "\n",
    "\n"
   ]
  },
  {
   "cell_type": "code",
   "execution_count": 5,
   "id": "a1b26f44",
   "metadata": {},
   "outputs": [
    {
     "name": "stdout",
     "output_type": "stream",
     "text": [
      "Enter the input value: 12321\n",
      "Palindrome\n"
     ]
    }
   ],
   "source": [
    "#alternate approach for string palindrome\n",
    "sample = input(\"Enter the input value: \")\n",
    "if sample == sample[::-1]:\n",
    "    print(\"Palindrome\")\n",
    "else:\n",
    "    print(\"Not palindrome\")"
   ]
  },
  {
   "cell_type": "code",
   "execution_count": 7,
   "id": "cda3bfbf",
   "metadata": {},
   "outputs": [
    {
     "name": "stdout",
     "output_type": "stream",
     "text": [
      "Enter the number of which you want to find factorial : 5\n",
      "Factorial of 5 is 120\n"
     ]
    }
   ],
   "source": [
    "#factorial\n",
    "num = (input(\"Enter the number of which you want to find factorial : \"))\n",
    "fact = 1\n",
    "if num.isnumeric():\n",
    "    for i in range(int(num), 1, -1):\n",
    "        fact *= i\n",
    "    print(f\"Factorial of {num} is {fact}\")\n",
    "else:\n",
    "    print(\"invalid input\")"
   ]
  },
  {
   "cell_type": "code",
   "execution_count": 2,
   "id": "2edec5b2",
   "metadata": {},
   "outputs": [
    {
     "name": "stdout",
     "output_type": "stream",
     "text": [
      "Enter the number to check if its prime or not :7\n",
      "Entered number is prime\n"
     ]
    }
   ],
   "source": [
    "# Prime number \n",
    "prime = int(input(\"Enter the number to check if its prime or not : \"))\n",
    "flag = 0\n",
    "temp_prime = int((prime ** 0.5) + 1)\n",
    "for i in range(2,temp_prime+1):\n",
    "    if prime % i == 0:\n",
    "        flag = -1\n",
    "        break\n",
    "if flag == 0:\n",
    "    print(\"Entered number is prime\")\n",
    "else:\n",
    "    print(\"Entered number isn't prime\")\n",
    "    "
   ]
  },
  {
   "cell_type": "code",
   "execution_count": 4,
   "id": "ee03ff7c",
   "metadata": {},
   "outputs": [
    {
     "name": "stdout",
     "output_type": "stream",
     "text": [
      "List of Prime Numbers between 1 and 100 are :  [2, 3, 5, 7, 11, 13, 17, 19, 23, 29, 31, 37, 41, 43, 47, 53, 59, 61, 67, 71, 73, 79, 83, 89, 97]\n"
     ]
    }
   ],
   "source": [
    "#prime numbers between 1 and 100\n",
    "prime_list = [2]\n",
    "for i in range(3,101):\n",
    "    flag = 0\n",
    "    for j in range(2, int((i ** 0.5) + 1)):\n",
    "        if i % j == 0:\n",
    "            flag = -1\n",
    "            break\n",
    "    if flag == 0:\n",
    "        prime_list.append(i)\n",
    "print(\"List of Prime Numbers between 1 and 100 are : \", prime_list)\n",
    "    "
   ]
  },
  {
   "cell_type": "code",
   "execution_count": null,
   "id": "25d3b540",
   "metadata": {},
   "outputs": [],
   "source": []
  }
 ],
 "metadata": {
  "kernelspec": {
   "display_name": "Python 3 (ipykernel)",
   "language": "python",
   "name": "python3"
  },
  "language_info": {
   "codemirror_mode": {
    "name": "ipython",
    "version": 3
   },
   "file_extension": ".py",
   "mimetype": "text/x-python",
   "name": "python",
   "nbconvert_exporter": "python",
   "pygments_lexer": "ipython3",
   "version": "3.9.7"
  }
 },
 "nbformat": 4,
 "nbformat_minor": 5
}
