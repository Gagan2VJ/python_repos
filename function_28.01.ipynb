{
 "cells": [
  {
   "cell_type": "code",
   "execution_count": null,
   "id": "f5fc8fa4-fc23-43f8-bfce-a4c8e26efb04",
   "metadata": {},
   "outputs": [],
   "source": [
    "function"
   ]
  },
  {
   "cell_type": "code",
   "execution_count": 8,
   "id": "43577ead-ef13-44bf-bc50-56fa25d980dd",
   "metadata": {},
   "outputs": [],
   "source": [
    "def add():\n",
    "    x = int(input(\"Enter the number:\"))\n",
    "    y = int(input(\"Enter the second number:\"))\n",
    "    z = x+y\n",
    "    return z"
   ]
  },
  {
   "cell_type": "code",
   "execution_count": 9,
   "id": "5edc0d98-ed3b-4d4f-a1ac-488405c5fce3",
   "metadata": {},
   "outputs": [
    {
     "name": "stdin",
     "output_type": "stream",
     "text": [
      "Enter the number: 10\n",
      "Enter the second number: 23\n"
     ]
    }
   ],
   "source": [
    "result  = add()"
   ]
  },
  {
   "cell_type": "code",
   "execution_count": 10,
   "id": "4de7b157-8ade-471f-81e0-77af33fce33c",
   "metadata": {},
   "outputs": [
    {
     "data": {
      "text/plain": [
       "33"
      ]
     },
     "execution_count": 10,
     "metadata": {},
     "output_type": "execute_result"
    }
   ],
   "source": [
    "result"
   ]
  },
  {
   "cell_type": "code",
   "execution_count": 11,
   "id": "d14c8f19-197d-4b55-ba76-8cfee1880ce8",
   "metadata": {},
   "outputs": [
    {
     "data": {
      "text/plain": [
       "int"
      ]
     },
     "execution_count": 11,
     "metadata": {},
     "output_type": "execute_result"
    }
   ],
   "source": [
    "type(result)"
   ]
  },
  {
   "cell_type": "code",
   "execution_count": null,
   "id": "b0eeacd3-2532-42a9-867c-39eb57a62174",
   "metadata": {},
   "outputs": [],
   "source": [
    "take marks from student calcualte per and grade"
   ]
  },
  {
   "cell_type": "code",
   "execution_count": 17,
   "id": "065b37a7-c5de-41df-bf6a-cd9f84168f57",
   "metadata": {},
   "outputs": [
    {
     "name": "stdout",
     "output_type": "stream",
     "text": [
      "in main\n"
     ]
    },
    {
     "name": "stdin",
     "output_type": "stream",
     "text": [
      "Enter the sub1: 70\n",
      "Enter the sub2: 60\n",
      "Enter the sub3: 70\n"
     ]
    },
    {
     "name": "stdout",
     "output_type": "stream",
     "text": [
      "subjects marks are : 70 60 70\n",
      "Percentage: 66.66666666666667\n",
      "Grade: B\n",
      "End\n"
     ]
    }
   ],
   "source": [
    "def take_marks():\n",
    "    s1 = int(input(\"Enter the sub1:\"))\n",
    "    s2 = int(input(\"Enter the sub2:\"))\n",
    "    s3 = int(input(\"Enter the sub3:\"))\n",
    "    return s1,s2,s3\n",
    "def calcuate_per(sub1,sub2,sub3):\n",
    "    per = ((sub1+sub2+sub3)*100)/300\n",
    "    return per\n",
    "def calculcate_grade(percet):\n",
    "    if percet>80 and percet<100:\n",
    "        return \"A\"\n",
    "    elif percet>60 and percet<79:\n",
    "        return \"B\"\n",
    "    else:\n",
    "        return \"Fail\"\n",
    "def main():\n",
    "    print(\"in main\")\n",
    "    x,y,z = take_marks()\n",
    "    per = calcuate_per(x,y,z)\n",
    "    grade = calculcate_grade(per)\n",
    "    print(\"subjects marks are :\",x,y,z)\n",
    "    print(\"Percentage:\",per)\n",
    "    print(\"Grade:\",grade)\n",
    "    print(\"End\")\n",
    "if __name__=='__main__':\n",
    "    main()"
   ]
  },
  {
   "cell_type": "code",
   "execution_count": 18,
   "id": "437c489c-92ec-4d87-978d-a02e69375c80",
   "metadata": {},
   "outputs": [],
   "source": [
    "emails = ['test@gmail.com','sample@gmail.com','python@yahoo.com']"
   ]
  },
  {
   "cell_type": "code",
   "execution_count": 19,
   "id": "c4a9f2a8-1345-48c4-bf90-763caea2f258",
   "metadata": {},
   "outputs": [],
   "source": [
    "def fetch_username(e):\n",
    "    username = []\n",
    "    for i in e:\n",
    "        username.append(i.split('@')[0])\n",
    "    return username\n",
    "    "
   ]
  },
  {
   "cell_type": "code",
   "execution_count": 20,
   "id": "7a00c7bc-3cf9-4bff-8ab0-71e80c544284",
   "metadata": {},
   "outputs": [],
   "source": [
    "username_list = fetch_username(emails)"
   ]
  },
  {
   "cell_type": "code",
   "execution_count": 21,
   "id": "5a675b31-33c9-48d0-b73b-2b387a7bef76",
   "metadata": {},
   "outputs": [
    {
     "data": {
      "text/plain": [
       "['test', 'sample', 'python']"
      ]
     },
     "execution_count": 21,
     "metadata": {},
     "output_type": "execute_result"
    }
   ],
   "source": [
    "username_list"
   ]
  },
  {
   "cell_type": "code",
   "execution_count": 1,
   "id": "28ff0760-dd4e-464e-9824-dff350afde32",
   "metadata": {},
   "outputs": [
    {
     "name": "stdout",
     "output_type": "stream",
     "text": [
      "Enter the amount spend : 5000\n",
      "Enter the account type : savings\n",
      "Transaction fee for savings is : 1000.0 \n"
     ]
    }
   ],
   "source": [
    "#Banking system \n",
    "def calculate_transaction_fee(amount, acc_type):\n",
    "    if acc_type == 'savings':\n",
    "        return amount * 0.2\n",
    "    elif acc_type == 'current':\n",
    "        return amount * 0.15\n",
    "    elif acc_type == 'business':\n",
    "        return amount * 0.1\n",
    "    elif acc_type == 'premium':\n",
    "        return 0\n",
    "    else:\n",
    "        print('Invalid account type')\n",
    "\n",
    "def main():\n",
    "    amount_spent = int(input(\"Enter the amount spend : \"))\n",
    "    type_acc = input(\"Enter the account type : \")\n",
    "    fee = calculate_transaction_fee(amount_spent, type_acc)\n",
    "    print(\"Transaction fee for {} is : {} \".format(type_acc, fee))\n",
    "\n",
    "if __name__ == '__main__':\n",
    "    main()"
   ]
  },
  {
   "cell_type": "code",
   "execution_count": 1,
   "id": "7fbc1904-d560-4463-8561-30a9f425092f",
   "metadata": {
    "scrolled": true
   },
   "outputs": [
    {
     "name": "stdout",
     "output_type": "stream",
     "text": [
      "Enter the product price : 1000\n",
      "Enter the discount recieved : 5\n",
      "Discounted Price :  950.0\n"
     ]
    }
   ],
   "source": [
    "# Discounted Price\n",
    "def apply_discount(price, discount_percentage):\n",
    "    return (price - (price * discount_percentage / 100))\n",
    "def main():\n",
    "    product_price = int(input(\"Enter the product price : \"))\n",
    "    disc_per = int(input(\"Enter the discount recieved : \"))\n",
    "    final_price = apply_discount(product_price, disc_per)\n",
    "    print (\"Discounted Price : \", final_price)\n",
    "if __name__ == '__main__':\n",
    "    main()\n"
   ]
  },
  {
   "cell_type": "code",
   "execution_count": 9,
   "id": "a1edb513-15b2-4533-be78-87919cc5d598",
   "metadata": {},
   "outputs": [
    {
     "name": "stdout",
     "output_type": "stream",
     "text": [
      "Enter the no.of members : 5\n",
      "Enter the age of member1 : \n",
      " - 10\n",
      "Enter the age of member2 : \n",
      " - 20\n",
      "Enter the age of member3 : \n",
      " - 30\n",
      "Enter the age of member4 : \n",
      " - 60\n",
      "Enter the age of member5 : \n",
      " - 66\n",
      "Enter if it's weekend (True/False) :True\n",
      "Total price with 5 members is 50\n"
     ]
    }
   ],
   "source": [
    "#Dynamic Movie ticket price\n",
    "def ticket_price(members, members_age, is_weekend = False):\n",
    "    total_price = 0\n",
    "    if is_weekend == True:\n",
    "        for age in members_age:\n",
    "            if age < 12 :\n",
    "                total_price += 10\n",
    "            elif age >= 12 and age < 60:\n",
    "                total_price += 15\n",
    "            else:\n",
    "                total_price += 12\n",
    "    else:\n",
    "        for age in members_age:\n",
    "            if age < 12 :\n",
    "                total_price += 8\n",
    "            elif age >= 12 and age < 60:\n",
    "                total_price += 12\n",
    "            else:\n",
    "                total_price += 10\n",
    "    return total_price\n",
    "\n",
    "def main():\n",
    "    total_members = int(input(\"Enter the no.of members : \"))\n",
    "    ages = []\n",
    "    for i in range(total_members):\n",
    "        print(\"Enter the age of member{} : \".format(i+1))\n",
    "        age = int(input(\" - \"))\n",
    "        ages.append(i)\n",
    "    weekend = bool(input(\"Enter if it's weekend (True/False) :\"))\n",
    "    result = ticket_price(total_members, ages, weekend)\n",
    "    print(\"Total price with {} members is {}\".format(len(ages), result))\n",
    "    \n",
    "if __name__ == '__main__':\n",
    "    main()"
   ]
  },
  {
   "cell_type": "code",
   "execution_count": 15,
   "id": "6d01bc98",
   "metadata": {},
   "outputs": [
    {
     "data": {
      "text/plain": [
       "[('id', 101), ('name', 'gagan'), ('city', 'Pune')]"
      ]
     },
     "execution_count": 15,
     "metadata": {},
     "output_type": "execute_result"
    }
   ],
   "source": []
  },
  {
   "cell_type": "code",
   "execution_count": null,
   "id": "f69a7f65",
   "metadata": {},
   "outputs": [],
   "source": []
  }
 ],
 "metadata": {
  "kernelspec": {
   "display_name": "Python 3 (ipykernel)",
   "language": "python",
   "name": "python3"
  },
  "language_info": {
   "codemirror_mode": {
    "name": "ipython",
    "version": 3
   },
   "file_extension": ".py",
   "mimetype": "text/x-python",
   "name": "python",
   "nbconvert_exporter": "python",
   "pygments_lexer": "ipython3",
   "version": "3.9.7"
  }
 },
 "nbformat": 4,
 "nbformat_minor": 5
}
