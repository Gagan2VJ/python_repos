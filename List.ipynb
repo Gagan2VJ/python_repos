{
 "cells": [
  {
   "cell_type": "code",
   "execution_count": 26,
   "id": "3bd949cf",
   "metadata": {},
   "outputs": [
    {
     "data": {
      "text/plain": [
       "['Detergent',\n",
       " 'facewash',\n",
       " 'comforter',\n",
       " 'soap',\n",
       " 'salt',\n",
       " 'towel',\n",
       " 'spoon',\n",
       " 'soap dispenser',\n",
       " 'Garlic',\n",
       " 'Magic shrooms']"
      ]
     },
     "execution_count": 26,
     "metadata": {},
     "output_type": "execute_result"
    }
   ],
   "source": [
    "shopping_items = ['Detergent', 'facewash', 'soap', 'salt', 'towel']\n",
    "shopping_items.append('spoon')\n",
    "shopping_items.insert(2,'comforter')\n",
    "shopping_items.extend(['soap dispenser', 'Garlic', 'Magic shrooms'])\n",
    "shopping_items"
   ]
  },
  {
   "cell_type": "code",
   "execution_count": 27,
   "id": "d6602a54",
   "metadata": {},
   "outputs": [],
   "source": [
    "shopping_items.remove('Garlic')"
   ]
  },
  {
   "cell_type": "code",
   "execution_count": 29,
   "id": "a432a02d",
   "metadata": {},
   "outputs": [
    {
     "data": {
      "text/plain": [
       "'comforter'"
      ]
     },
     "execution_count": 29,
     "metadata": {},
     "output_type": "execute_result"
    }
   ],
   "source": [
    "shopping_items.pop(2)"
   ]
  },
  {
   "cell_type": "code",
   "execution_count": 30,
   "id": "11694bea",
   "metadata": {},
   "outputs": [
    {
     "data": {
      "text/plain": [
       "['Detergent', 'facewash', 'soap', 'salt', 'towel', 'spoon', 'soap dispenser']"
      ]
     },
     "execution_count": 30,
     "metadata": {},
     "output_type": "execute_result"
    }
   ],
   "source": [
    "shopping_items"
   ]
  },
  {
   "cell_type": "code",
   "execution_count": 34,
   "id": "3724e2c6",
   "metadata": {},
   "outputs": [
    {
     "data": {
      "text/plain": [
       "'Total Expenses = 1750'"
      ]
     },
     "execution_count": 34,
     "metadata": {},
     "output_type": "execute_result"
    }
   ],
   "source": [
    "expenses = [200, 150, 300, 250, 400, 100, 350]\n",
    "exp_sum = 0\n",
    "for item in expenses:\n",
    "    exp_sum += item\n",
    "f\"Total Expenses = {exp_sum}\""
   ]
  },
  {
   "cell_type": "code",
   "execution_count": 42,
   "id": "2725ee86",
   "metadata": {},
   "outputs": [
    {
     "name": "stdout",
     "output_type": "stream",
     "text": [
      "78\n",
      "68\n"
     ]
    }
   ],
   "source": [
    "temperatures = [72, 75, 78, 70, 68, 74, 73]\n",
    "#print(\"Max temp :\", max(temperatures))\n",
    "#print('Min temp :', min(temperatures))\n",
    "high = temperatures[0]\n",
    "for i in range(1,len(temperatures)):\n",
    "    if temperatures[i] > high:\n",
    "        high = temperatures[i]\n",
    "print(high)\n",
    "low = temperatures[0]\n",
    "for i in range(1,len(temperatures)):\n",
    "    if temperatures[i] < low:\n",
    "        low = temperatures[i]\n",
    "print(low)\n"
   ]
  },
  {
   "cell_type": "code",
   "execution_count": 46,
   "id": "ef0f55c3",
   "metadata": {},
   "outputs": [
    {
     "name": "stdout",
     "output_type": "stream",
     "text": [
      "Enter the place to move1\n",
      "Enter the place to insert5\n"
     ]
    },
    {
     "data": {
      "text/plain": [
       "['brush',\n",
       " 'bath',\n",
       " 'pray',\n",
       " 'walk',\n",
       " 'wake up',\n",
       " 'work',\n",
       " 'nap',\n",
       " 'play',\n",
       " 'eat',\n",
       " 'walk',\n",
       " 'sleep']"
      ]
     },
     "execution_count": 46,
     "metadata": {},
     "output_type": "execute_result"
    }
   ],
   "source": [
    "tasks = ['wake up', 'brush', 'bath', 'pray', 'walk', 'work', 'nap', 'play', 'eat', 'walk', 'sleep']\n",
    "#tasks[0],tasks[3] = tasks[3],tasks[0] #swapping 2 tasks\n",
    "tasks\n",
    "#else \n",
    "task_move = int(input(\"Enter the place to move\"))-1\n",
    "task_place = int(input(\"Enter the place to insert\"))-1\n",
    "task = tasks.pop(task_move)\n",
    "tasks.insert(task_place,task)\n",
    "tasks"
   ]
  },
  {
   "cell_type": "code",
   "execution_count": 47,
   "id": "a8dbfa82",
   "metadata": {},
   "outputs": [
    {
     "name": "stdout",
     "output_type": "stream",
     "text": [
      "present in List\n"
     ]
    }
   ],
   "source": [
    "shopping_list = [\"bread\", \"eggs\", \"milk\", \"butter\"]\n",
    "if \"milk\" in shopping_list:\n",
    "    print(\"present in List\")\n",
    "else:\n",
    "    print(\"Not present in List\")"
   ]
  },
  {
   "cell_type": "code",
   "execution_count": 61,
   "id": "1fdb04dc",
   "metadata": {},
   "outputs": [
    {
     "name": "stdout",
     "output_type": "stream",
     "text": [
      "[101, 102, 103, 104, 105]\n"
     ]
    },
    {
     "data": {
      "text/plain": [
       "[101, 102, 103, 104, 105]"
      ]
     },
     "execution_count": 61,
     "metadata": {},
     "output_type": "execute_result"
    }
   ],
   "source": [
    "visitors = [101, 102, 103, 101, 104, 105, 102]\n",
    "visitors_id = []\n",
    "for item in visitors:\n",
    "    if item not in visitors_id:\n",
    "        visitors_id.append(item)\n",
    "print(visitors_id)\n",
    "#directly use set to0 \n",
    "list(set(visitors))"
   ]
  },
  {
   "cell_type": "code",
   "execution_count": 65,
   "id": "8d521e83",
   "metadata": {},
   "outputs": [
    {
     "name": "stdout",
     "output_type": "stream",
     "text": [
      "{'apple', 'grape', 'banana', 'orange', 'pear'}\n"
     ]
    }
   ],
   "source": [
    "order1 = [\"apple\", \"banana\", \"orange\"]\n",
    "order2 = [\"banana\", \"pear\", \"grape\"]\n",
    "order1.extend(order2)\n",
    "print(set(order1))\n"
   ]
  },
  {
   "cell_type": "code",
   "execution_count": 84,
   "id": "d520ff40",
   "metadata": {},
   "outputs": [
    {
     "name": "stdout",
     "output_type": "stream",
     "text": [
      "Average stock price : 122.85714285714286\n",
      "[130, 125, 140, 135]\n"
     ]
    }
   ],
   "source": [
    "prices = [100, 120, 110, 130, 125, 140, 135]\n",
    "avg = sum(prices)/len(prices)\n",
    "print(\"Average stock price :\", avg)\n",
    "temp_list = []\n",
    "for item in prices:\n",
    "    if item > avg:\n",
    "        temp_list.append(item)\n",
    "print(temp_list)"
   ]
  },
  {
   "cell_type": "code",
   "execution_count": 85,
   "id": "fb5551fc",
   "metadata": {},
   "outputs": [
    {
     "name": "stdout",
     "output_type": "stream",
     "text": [
      "['Alice', 'Bob', 'Eve', 'John']\n"
     ]
    }
   ],
   "source": [
    "employees = [\"Alice\", \"John\", \"Bob\", \"Eve\"]\n",
    "print(sorted(employees))"
   ]
  },
  {
   "cell_type": "code",
   "execution_count": 95,
   "id": "40e597e9",
   "metadata": {},
   "outputs": [
    {
     "data": {
      "text/plain": [
       "['song4', 'song1', 'song2', 'song3']"
      ]
     },
     "execution_count": 95,
     "metadata": {},
     "output_type": "execute_result"
    }
   ],
   "source": [
    "playlist = [\"song1\", \"song2\", \"song3\", \"song4\"]\n",
    "last = playlist.pop()\n",
    "playlist.insert(0,last)\n",
    "playlist"
   ]
  },
  {
   "cell_type": "code",
   "execution_count": null,
   "id": "5c4c91fa",
   "metadata": {},
   "outputs": [],
   "source": []
  }
 ],
 "metadata": {
  "kernelspec": {
   "display_name": "Python 3 (ipykernel)",
   "language": "python",
   "name": "python3"
  },
  "language_info": {
   "codemirror_mode": {
    "name": "ipython",
    "version": 3
   },
   "file_extension": ".py",
   "mimetype": "text/x-python",
   "name": "python",
   "nbconvert_exporter": "python",
   "pygments_lexer": "ipython3",
   "version": "3.9.7"
  }
 },
 "nbformat": 4,
 "nbformat_minor": 5
}
