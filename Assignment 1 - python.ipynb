{
 "cells": [
  {
   "cell_type": "code",
   "execution_count": 1,
   "id": "7cd3328e",
   "metadata": {},
   "outputs": [
    {
     "name": "stdout",
     "output_type": "stream",
     "text": [
      "G\n",
      "a\n",
      "g\n",
      "a\n",
      "n\n"
     ]
    }
   ],
   "source": [
    "\"\"\"Write a program to print every character of a string entered by the user in a new line using a loop\"\"\"\n",
    "test_string = 'Gagan'\n",
    "for i in test_string:\n",
    "    print(i)"
   ]
  },
  {
   "cell_type": "code",
   "execution_count": 2,
   "id": "6a51dc99",
   "metadata": {},
   "outputs": [
    {
     "name": "stdout",
     "output_type": "stream",
     "text": [
      "Length of string : 16\n"
     ]
    }
   ],
   "source": [
    "\"\"\"Write a program to find the length of the string \"machine learning\" with and without using len function.\"\"\"\n",
    "test_string = \"machine learning\"\n",
    "length = 0\n",
    "for i in test_string:\n",
    "    length += 1\n",
    "print(f\"Length of string : {length}\")"
   ]
  },
  {
   "cell_type": "code",
   "execution_count": 4,
   "id": "4b3097f1",
   "metadata": {},
   "outputs": [
    {
     "name": "stdout",
     "output_type": "stream",
     "text": [
      "Word present in string\n",
      "8\n"
     ]
    }
   ],
   "source": [
    "\"\"\"Write a program to check if the word 'orange' is present in the \"This is orange juice\".\"\"\"\n",
    "test_string = \"This is orange juice\"\n",
    "if 'orange' in test_string:\n",
    "    print('Word present in string')\n",
    "else:\n",
    "    print(\"Word isn't present in string\")\n"
   ]
  },
  {
   "cell_type": "code",
   "execution_count": 6,
   "id": "ef505656",
   "metadata": {},
   "outputs": [
    {
     "name": "stdout",
     "output_type": "stream",
     "text": [
      "Word present\n"
     ]
    }
   ],
   "source": [
    "test_string = \"This is orange juice\"\n",
    "if test_string.find('orange') != -1:\n",
    "    print('Word present')\n",
    "else:\n",
    "    print(\"Word absent\")"
   ]
  },
  {
   "cell_type": "code",
   "execution_count": 22,
   "id": "2ed83484",
   "metadata": {},
   "outputs": [
    {
     "name": "stdout",
     "output_type": "stream",
     "text": [
      "Vowel count :  {'a': 5, 'e': 3, 'i': 2, 'o': 1, 'u': 1}\n",
      "Consonants count :  {'d': 4, 's': 5, 'f': 3, 'j': 1, 'k': 1, 'l': 1, 'r': 1}\n",
      "Digits count :  {'3': 4, '4': 4, '1': 1, '2': 2, '5': 1}\n",
      "Special characters count :  {'&': 1, '*': 1, '#': 4, '@': 3, '$': 3, '%': 1, ',': 2, '.': 2, '/': 1}\n",
      "Whitespaces count :  4\n"
     ]
    }
   ],
   "source": [
    "\"\"\"Write a program to find the number of vowels, consonants, digits, and white space characters in a string.\"\"\"\n",
    "\n",
    "def vowel_count (test_string):\n",
    "    vowel_count_dict = {}\n",
    "    for item in test_string.lower():\n",
    "        if item in 'aeiou':\n",
    "            if item in vowel_count_dict:\n",
    "                vowel_count_dict[item] += 1\n",
    "            else:\n",
    "                vowel_count_dict[item] = 1\n",
    "    return vowel_count_dict\n",
    "\n",
    "def consonants_count(test_string):\n",
    "    conso_count = {}\n",
    "    for item in test_string.lower():\n",
    "        if item.isalpha():\n",
    "            if (item not in 'aeiou') and (item not in conso_count):\n",
    "                conso_count[item] = 1\n",
    "            elif (item not in 'aeiou') and (item in conso_count):\n",
    "                conso_count[item] += 1\n",
    "    return conso_count\n",
    "\n",
    "def digits_count(test_string):\n",
    "    digi_count = {}\n",
    "    for item in test_string:\n",
    "        if item.isnumeric():\n",
    "            if item in digi_count:\n",
    "                digi_count[item] += 1\n",
    "            else:\n",
    "                digi_count[item] = 1\n",
    "    return digi_count\n",
    "\n",
    "def special_count(test_string):\n",
    "    sp_count = {}\n",
    "    for item in test_string:\n",
    "        if not(item.isalpha() or item.isnumeric() or item.isspace()):\n",
    "            if item in sp_count:\n",
    "                sp_count[item] += 1\n",
    "            else:\n",
    "                sp_count[item] = 1\n",
    "    return sp_count\n",
    "\n",
    "def whitespaces_count(test_string):\n",
    "    white_count = 0\n",
    "    for item in test_string:\n",
    "        if item.isspace():\n",
    "            white_count += 1\n",
    "    return white_count\n",
    "\n",
    "def main():\n",
    "    string = \"dsfajkadsfl&*D34sd#1234432543#@$%@#$@$#,../,SFA    EAERIOUSAie\"\n",
    "    print(\"Vowel count : \", vowel_count(string))\n",
    "    print(\"Consonants count : \", consonants_count(string))\n",
    "    print(\"Digits count : \", digits_count(string))\n",
    "    print(\"Special characters count : \", special_count(string))\n",
    "    print(\"Whitespaces count : \", whitespaces_count(string))\n",
    "\n",
    "if __name__ == '__main__':\n",
    "    main()\n",
    "\n"
   ]
  },
  {
   "cell_type": "code",
   "execution_count": 33,
   "id": "453f0577",
   "metadata": {},
   "outputs": [
    {
     "name": "stdout",
     "output_type": "stream",
     "text": [
      "Uppercase count :  14\n",
      "Lowercase count :  10\n",
      "Special characters count :  10\n",
      "Numbers count :  12\n"
     ]
    }
   ],
   "source": [
    "\"\"\"Write a Python program to count Uppercase, Lowercase, special character, and numeric values in a given string.\"\"\"\n",
    "def upper_count (string):\n",
    "    count = 0\n",
    "    for item in string:\n",
    "        if item.isupper():\n",
    "            count += 1\n",
    "    return count\n",
    "def lower_count (string):\n",
    "    count = 0\n",
    "    for item in string:\n",
    "        if item.islower():\n",
    "            count += 1\n",
    "    return count\n",
    "\n",
    "def special_count (string):\n",
    "    count = 0\n",
    "    for item in string:\n",
    "        if not(item.isalpha() or item.isnumeric() or item.isspace()):\n",
    "            count += 1\n",
    "    return count\n",
    "def numeric_count (string):\n",
    "    count = 0\n",
    "    for item in string:\n",
    "        if item.isnumeric():\n",
    "            count += 1\n",
    "    return count\n",
    "def main():\n",
    "    sample_str = \"ASDFFJDASKLFEWdsfkljakds@#$#$^^!$#132490853943\"\n",
    "    print(\"Uppercase count : \", upper_count(sample_str))\n",
    "    print(\"Lowercase count : \", lower_count(sample_str))\n",
    "    print(\"Special characters count : \", special_count(sample_str))\n",
    "    print(\"Numbers count : \", numeric_count(sample_str))\n",
    "    \n",
    "if __name__ == '__main__':\n",
    "    main()"
   ]
  },
  {
   "cell_type": "code",
   "execution_count": 38,
   "id": "527fd3e2",
   "metadata": {},
   "outputs": [
    {
     "name": "stdout",
     "output_type": "stream",
     "text": [
      "Altered String without consonants :    e  o   a e a  oo   a \n"
     ]
    }
   ],
   "source": [
    "\"\"\"Write a program to make a new string with all the consonants deleted from the string \"Hello, have a good day\".\"\"\"\n",
    "def formatted_string (string):\n",
    "    alter_str = ' '\n",
    "    for item in string:\n",
    "        if item in 'aeiou' or item in 'AEIOU':\n",
    "            alter_str += item\n",
    "        else:\n",
    "            alter_str += ' '\n",
    "    return alter_str\n",
    "\n",
    "def main():\n",
    "    sample = \"Hello, have a good day\"\n",
    "    print(\"Altered String without consonants : \", formatted_string(sample))\n",
    "\n",
    "if __name__ == '__main__':\n",
    "    main()"
   ]
  },
  {
   "cell_type": "code",
   "execution_count": 52,
   "id": "e56e7848",
   "metadata": {},
   "outputs": [
    {
     "name": "stdout",
     "output_type": "stream",
     "text": [
      "Enter the index of the character to be removed : 8\n",
      " Deleted element j and altered string is Gagan Vi ayvargiya\n"
     ]
    }
   ],
   "source": [
    "\"\"\"Write a Python program to remove the nth index character from a non-empty string.\"\"\"\n",
    "def altered (string, index):\n",
    "    element = string[index]\n",
    "    return (string.replace(element,' ',1), element)\n",
    "    \n",
    "def main():\n",
    "    sample = \"Gagan Vijayvargiya\"\n",
    "    n = int(input(\"Enter the index of the character to be removed : \"))\n",
    "    alter_str, deleted_char = altered(sample, n)\n",
    "    print(f\" Deleted element {deleted_char} and altered string is {alter_str}\")\n",
    "\n",
    "if __name__ == '__main__':\n",
    "    main()"
   ]
  },
  {
   "cell_type": "code",
   "execution_count": 41,
   "id": "617475d0",
   "metadata": {},
   "outputs": [
    {
     "ename": "NameError",
     "evalue": "name 'replace' is not defined",
     "output_type": "error",
     "traceback": [
      "\u001b[1;31m---------------------------------------------------------------------------\u001b[0m",
      "\u001b[1;31mNameError\u001b[0m                                 Traceback (most recent call last)",
      "\u001b[1;32m~\\AppData\\Local\\Temp/ipykernel_6332/4244080781.py\u001b[0m in \u001b[0;36m<module>\u001b[1;34m\u001b[0m\n\u001b[1;32m----> 1\u001b[1;33m \u001b[0mhelp\u001b[0m\u001b[1;33m(\u001b[0m\u001b[0mreplace\u001b[0m\u001b[1;33m)\u001b[0m\u001b[1;33m\u001b[0m\u001b[1;33m\u001b[0m\u001b[0m\n\u001b[0m",
      "\u001b[1;31mNameError\u001b[0m: name 'replace' is not defined"
     ]
    }
   ],
   "source": []
  },
  {
   "cell_type": "code",
   "execution_count": null,
   "id": "e64d4af6",
   "metadata": {},
   "outputs": [],
   "source": []
  }
 ],
 "metadata": {
  "kernelspec": {
   "display_name": "Python 3 (ipykernel)",
   "language": "python",
   "name": "python3"
  },
  "language_info": {
   "codemirror_mode": {
    "name": "ipython",
    "version": 3
   },
   "file_extension": ".py",
   "mimetype": "text/x-python",
   "name": "python",
   "nbconvert_exporter": "python",
   "pygments_lexer": "ipython3",
   "version": "3.9.7"
  }
 },
 "nbformat": 4,
 "nbformat_minor": 5
}
